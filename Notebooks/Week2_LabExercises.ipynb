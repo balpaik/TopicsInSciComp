{
 "cells": [
  {
   "cell_type": "markdown",
   "id": "8677fe39",
   "metadata": {},
   "source": [
    "## Week 2 Lab exercises\n",
    "\n",
    "In this week we will use python to explore strange new worlds, to seek out new life and new civilisation, and to boldly code what no one has coded before. \n",
    "\n",
    "The goal is to familiarise yourself with using functions, loops, arrays and plotting in Python, and to illustrate some of the software carpentry points that we discussed in the lecture."
   ]
  },
  {
   "cell_type": "code",
   "execution_count": 1,
   "id": "0d8bde64",
   "metadata": {},
   "outputs": [],
   "source": [
    "# first we import the libraries we need\n",
    "import numpy as np\n",
    "import matplotlib.pyplot as plt\n",
    "\n",
    "# The following lines makes the plots appear in another window - if using AppsAnywhere they may appear\n",
    "# in another window behind the notebook, and you may have to rearrange the desktop to see them. However, \n",
    "# I've commented it out because it doesn't always work. You can try it if you have time.\n",
    "# %matplotlib \n",
    "\n",
    "# This makes the plots appear in the notebook\n",
    "%matplotlib inline"
   ]
  },
  {
   "cell_type": "markdown",
   "id": "2b399aad",
   "metadata": {},
   "source": [
    "### ACTIVITY 1: \n",
    "In the code below, change the line as marked (UPDATE ME) to get the asteroid data from the data file `asteroid_locations.dat` that is in the `/data` folder"
   ]
  },
  {
   "cell_type": "code",
   "execution_count": 3,
   "id": "2bceae51",
   "metadata": {},
   "outputs": [
    {
     "data": {
      "image/png": "[encoded data removed]",
      "text/plain": [
       "<Figure size 640x480 with 1 Axes>"
      ]
     },
     "metadata": {},
     "output_type": "display_data"
    }
   ],
   "source": [
    "# Set up the plotting\n",
    "\n",
    "def plot_asteroid_field(ax) :\n",
    "    plt.axis([0,10.5,-4,4])\n",
    "    major_ticks = np.arange(0, 11, 1)\n",
    "    ax.set_xticks(major_ticks)\n",
    "    plt.xlabel(\"time / x position\")\n",
    "    plt.ylabel(\"position\")\n",
    "    ax.set_aspect('equal')\n",
    "    ax.grid(which='major', alpha=0.8)\n",
    "\n",
    "    # Mark the asteroid positions onto the plot - read in the data from data/asteroid_locations.dat\n",
    "    # HINT: the function you need is called loadtxt\n",
    "   #asteroid_locations= np.array([[0,0], [0,0]])# UPDATE ME!\n",
    "    asteroid_locations= np.loadtxt('data/asteroid_locations.dat') \n",
    "    for location in asteroid_locations :\n",
    "        circle=plt.Circle(location, 0.5 , color='r')\n",
    "        ax.add_artist(circle)\n",
    "    #plt.pause(0.3)\n",
    "\n",
    "# Test the plot\n",
    "fig = plt.figure()\n",
    "ax = plt.gcf().gca()\n",
    "plot_asteroid_field(ax)\n",
    "plt.show()"
   ]
  },
  {
   "cell_type": "code",
   "execution_count": 5,
   "id": "0c6bb38e",
   "metadata": {},
   "outputs": [
    {
     "name": "stdout",
     "output_type": "stream",
     "text": [
      "The list of times at the start is  [ 0  1  2  3  4  5  6  7  8  9 10]\n",
      "The list of y positions at the start is  [0 0 0 0 0 0 0 0 0 0 0]\n"
     ]
    }
   ],
   "source": [
    "# set up a list to store the times and positions\n",
    "list_of_times = np.array([0, 1, 2, 3, 4, 5, 6, 7, 8, 9, 10])\n",
    "list_of_y_positions = np.zeros_like(list_of_times)\n",
    "\n",
    "# print off the initial values of the times and positions\n",
    "print(\"The list of times at the start is \", list_of_times)\n",
    "print(\"The list of y positions at the start is \", list_of_y_positions)"
   ]
  },
  {
   "cell_type": "markdown",
   "id": "03a04402",
   "metadata": {},
   "source": [
    "### ACTIVITY 2: \n",
    "\n",
    "Captain Katy has asked you to plot a flight path through the asteroid field. If you run the code below you will see that the path does not currently avoid the asteroids :-( Update it so that it does! \n",
    "\n",
    "Also update so that the distance moved is calculated, and try to minimise this.\n",
    "\n",
    "RULES:\n",
    "\n",
    "- Just like in a retro video game, the ship must move one step forward in the x direction at every timestep, and you can only change its movement in the y direction to avoid the asteroids.\n",
    "- You should move in whole steps in the (x and) y direction, so you are always on integer coordinates.\n",
    "- You must end the flight back at position y=0.\n",
    "- Don't hit the asteroids! Note that their radius is 0.5 of a distance unit, so it is not sufficient to simply avoid the coordinates on which they are centred.\n",
    "\n",
    "#### BUT FIRST\n",
    "\n",
    "Remember *defensive programming*? You will see that the code does not check that it does what it should - i.e., it does not check that we have not hit an asteroid, and that we return to the zero position at the last step. Implement tests to check the rules _BEFORE_ you implement the code to set the path, and use asserts to make it quit with an error message if it fails.\n",
    "\n",
    "*TIP: You probably want to write any tests as a separate function. Would it be better to call them at each step or just at the end?*"
   ]
  },
  {
   "cell_type": "code",
   "execution_count": null,
   "id": "ba191268-4a07-4fa2-a3f2-334e31b1061a",
   "metadata": {},
   "outputs": [],
   "source": []
  },
  {
   "cell_type": "code",
   "execution_count": 29,
   "id": "13bbe9ca",
   "metadata": {},
   "outputs": [
    {
     "name": "stdout",
     "output_type": "stream",
     "text": [
      "2.0\n",
      "-4.0\n",
      "-2.0\n",
      "0.0\n"
     ]
    },
    {
     "ename": "AssertionError",
     "evalue": "",
     "output_type": "error",
     "traceback": [
      "\u001b[1;31m---------------------------------------------------------------------------\u001b[0m",
      "\u001b[1;31mAssertionError\u001b[0m                            Traceback (most recent call last)",
      "Cell \u001b[1;32mIn[29], line 27\u001b[0m\n\u001b[0;32m     21\u001b[0m \u001b[38;5;66;03m# go through the list of times, where index is the index within the \u001b[39;00m\n\u001b[0;32m     22\u001b[0m \u001b[38;5;66;03m# list, and time_now is the entry at that index\u001b[39;00m\n\u001b[0;32m     23\u001b[0m \u001b[38;5;28;01mfor\u001b[39;00m index, time_now \u001b[38;5;129;01min\u001b[39;00m \u001b[38;5;28menumerate\u001b[39m(list_of_times) :\n\u001b[0;32m     24\u001b[0m     \u001b[38;5;66;03m# the list of things to do when at a certain time starts with an 'if'\u001b[39;00m\n\u001b[0;32m     25\u001b[0m     \u001b[38;5;66;03m# start with time is zero, we start at position 0\u001b[39;00m\n\u001b[1;32m---> 27\u001b[0m     check_if_asteroid_is_not_hit()\n\u001b[0;32m     29\u001b[0m     \u001b[38;5;28;01mif\u001b[39;00m time_now \u001b[38;5;241m==\u001b[39m \u001b[38;5;241m0\u001b[39m :\n\u001b[0;32m     30\u001b[0m         list_of_y_positions[index] \u001b[38;5;241m=\u001b[39m \u001b[38;5;241m0\u001b[39m\n",
      "Cell \u001b[1;32mIn[29], line 12\u001b[0m, in \u001b[0;36mcheck_if_asteroid_is_not_hit\u001b[1;34m()\u001b[0m\n\u001b[0;32m     10\u001b[0m asteroid_field\u001b[38;5;241m=\u001b[39mnp\u001b[38;5;241m.\u001b[39mloadtxt(\u001b[38;5;124m'\u001b[39m\u001b[38;5;124mdata/asteroid_locations.dat\u001b[39m\u001b[38;5;124m'\u001b[39m)\n\u001b[0;32m     11\u001b[0m \u001b[38;5;28mprint\u001b[39m(asteroid_field[time_now][\u001b[38;5;241m1\u001b[39m]\u001b[38;5;241m-\u001b[39mlist_of_times[time_now])\n\u001b[1;32m---> 12\u001b[0m \u001b[38;5;28;01massert\u001b[39;00m (\u001b[38;5;28mabs\u001b[39m(asteroid_field[time_now][\u001b[38;5;241m1\u001b[39m]\u001b[38;5;241m-\u001b[39mlist_of_times[time_now])\u001b[38;5;241m>\u001b[39m\u001b[38;5;241m0.5\u001b[39m)\n",
      "\u001b[1;31mAssertionError\u001b[0m: "
     ]
    },
    {
     "data": {
      "image/png": "[encoded data removed]",
      "text/plain": [
       "<Figure size 640x480 with 1 Axes>"
      ]
     },
     "metadata": {},
     "output_type": "display_data"
    }
   ],
   "source": [
    "# Plot again the asteroid field, so that we can plot the path on top of it\n",
    "\n",
    "plt.ion() # Make the plotting interactive so we can update the path as we fly\n",
    "fig = plt.figure()\n",
    "ax1 = plt.gcf().gca() #this stands for get current figure, get current axis\n",
    "plot_asteroid_field(ax1)\n",
    "\n",
    "\n",
    "def check_if_asteroid_is_not_hit():\n",
    "    asteroid_field=np.loadtxt('data/asteroid_locations.dat')\n",
    "    print(asteroid_field[time_now][1]-list_of_times[time_now])\n",
    "    assert (abs(asteroid_field[time_now][1]-list_of_times[time_now])>0.5)\n",
    "        \n",
    "    \n",
    "def check_if_position_zero_is_reached():\n",
    "    assert not(index>len(list_of_times) and list_of_y_positions[index]!=0)\n",
    "        \n",
    "        \n",
    "        \n",
    "\n",
    "# go through the list of times, where index is the index within the \n",
    "# list, and time_now is the entry at that index\n",
    "for index, time_now in enumerate(list_of_times) :\n",
    "    # the list of things to do when at a certain time starts with an 'if'\n",
    "    # start with time is zero, we start at position 0\n",
    "    \n",
    "    check_if_asteroid_is_not_hit()\n",
    "    \n",
    "    if time_now == 0 :\n",
    "        list_of_y_positions[index] = 0\n",
    "    \n",
    "    # alternative option denoted by 'elif' (= else if)\n",
    "    # ie, if the time is between 1 and 3\n",
    "    elif (time_now > 0 and time_now <=2) :\n",
    "        step_size = 1\n",
    "        # moving y position by the step size\n",
    "        list_of_y_positions[index] = list_of_y_positions[index - 1] + step_size\n",
    "        \n",
    "    # UPDATE ME!\n",
    "    # Add more else if options here to cover all the times you need to move the ship\n",
    "    # (Try to make this as minimal as possible, rather than writing one elif statement\n",
    "    # per time step)\n",
    "    elif (time_now >2 and time_now <=10) :\n",
    "        step_size = 1\n",
    "        # moving y position by the step size\n",
    "        list_of_times[time_now] = list_of_times[time_now-1] + step_size\n",
    "    \n",
    "    # finally, give the default option for all other cases using 'else'\n",
    "    else :\n",
    "        # nothing happens at other times\n",
    "        step_size = 0\n",
    "        # moving y position by the step size\n",
    "        list_of_y_positions[index] = list_of_y_positions[index - 1] + step_size\n",
    "    check_if_position_zero_is_reached()\n",
    "\n",
    "    position_now = list_of_y_positions[index]\n",
    "    plt.plot(time_now, position_now, 'o')\n",
    "    #plt.pause(0.3) # This pause just slows down the plotting so it looks nicer\n",
    "\n",
    "print(\"The list of times at the end is \", list_of_times)\n",
    "print(\"The list of y positions at the end is \", list_of_y_positions)\n",
    "\n",
    "plt.plot(list_of_times, list_of_y_positions, 'g-')\n",
    "plt.show()\n",
    "\n",
    "# Uncomment to save the figure\n",
    "plt.savefig(\"flight_path.png\")\n",
    "\n",
    "# Print out some information\n",
    "total_distance_moved = 0 # UPDATE ME!\n",
    "print(\"I moved a total of \", total_distance_moved, \" units\")"
   ]
  },
  {
   "cell_type": "markdown",
   "id": "14b33155",
   "metadata": {},
   "source": [
    "### ACTIVITY 3:\n",
    "\n",
    "Now we are on an exploratory mission. Captian Katy wants you to plot a course for all of the blue (M or Minshara-class) planets on the map contained in `data/planet_locations.dat`, but not touching any of the other dangerous D-class pink planets. \n",
    "\n",
    "Again you need to update the code below to get the data from the data files.\n",
    "\n",
    "How could the read-in of the data (in particular checking of the class of the planet) be improved?"
   ]
  },
  {
   "cell_type": "code",
   "execution_count": 17,
   "id": "7c8121ee",
   "metadata": {},
   "outputs": [
    {
     "data": {
      "image/png": "[encoded data removed]",
      "text/plain": [
       "<Figure size 432x288 with 1 Axes>"
      ]
     },
     "metadata": {
      "needs_background": "light"
     },
     "output_type": "display_data"
    }
   ],
   "source": [
    "# Plot the planetary locations\n",
    "\n",
    "def plot_planet_locations(ax) :\n",
    "    plt.axis([0,15.5,-4,4])\n",
    "    major_ticks = np.arange(0, 16, 1)\n",
    "    ax.set_xticks(major_ticks)\n",
    "    plt.xlabel(\"time / x position\")\n",
    "    plt.ylabel(\"position\")\n",
    "    ax.set_aspect('equal')\n",
    "    ax.grid(which='major', alpha=0.8)\n",
    "\n",
    "    # Mark the planet positions onto the plot - read in the data from data/planet_locations.dat\n",
    "    # HINT: the function you need is called loadtxt\n",
    "    planet_locations= np.array([[0,0,0], [0,0,0]]) # UPDATE ME!\n",
    "\n",
    "    for index, location in enumerate(planet_locations) :\n",
    "        is_minshara_class =  (location[2] == 1)\n",
    "        coordinates = np.array([location[0],location[1]])\n",
    "        if(is_minshara_class) :\n",
    "            circle=plt.Circle(coordinates, 0.5, color='b')\n",
    "            plt.gcf().gca().add_artist(circle)\n",
    "        else : # other planets are dangerous D class planets\n",
    "            circle=plt.Circle(coordinates, 0.5, color='m')\n",
    "            plt.gcf().gca().add_artist(circle)  \n",
    "\n",
    "# Test the plot\n",
    "fig = plt.figure()\n",
    "ax = plt.gcf().gca()\n",
    "plot_planet_locations(ax)\n",
    "plt.show()"
   ]
  },
  {
   "cell_type": "markdown",
   "id": "d787ce7d",
   "metadata": {},
   "source": [
    "### ACTIVITY 4:\n",
    "\n",
    "Update the code below to make sure you visit all the M class planets as your Captain has asked (same rules of motion as above). What is the shortest distance in which you can do this? Update the code to calculate your value.\n",
    "\n",
    "Again, you should _first write code that checks that the code does what it should_, and then implement the actual actions."
   ]
  },
  {
   "cell_type": "code",
   "execution_count": 18,
   "id": "f9a6cc6f",
   "metadata": {},
   "outputs": [
    {
     "name": "stdout",
     "output_type": "stream",
     "text": [
      "The list of times at the start is  [ 0  1  2  3  4  5  6  7  8  9 10 11 12 13 14 15]\n",
      "The list of positions at the start is  [0 0 0 0 0 0 0 0 0 0 0 0 0 0 0 0]\n",
      "The list of times at the end is  [ 0  1  2  3  4  5  6  7  8  9 10 11 12 13 14 15]\n",
      "The list of positions at the end is  [ 0 -2 -2 -2 -2 -2 -2 -2 -2 -2 -2 -2 -2 -2 -2 -2]\n"
     ]
    },
    {
     "data": {
      "image/png": "[encoded data removed]",
      "text/plain": [
       "<Figure size 432x288 with 1 Axes>"
      ]
     },
     "metadata": {
      "needs_background": "light"
     },
     "output_type": "display_data"
    },
    {
     "name": "stdout",
     "output_type": "stream",
     "text": [
      "I moved a total of  0  units\n"
     ]
    }
   ],
   "source": [
    "# Plot again the asteroid field, so that we can plot the path on top of it\n",
    "\n",
    "# Uncomment this to make the plotting interactive so we can update the path as we fly\n",
    "# Need to also uncomment the %matplotlib command in the first cell, and plot.pause() below\n",
    "# plt.ion()\n",
    "\n",
    "# Regular plotting stuff\n",
    "fig = plt.figure()\n",
    "ax = plt.gcf().gca()\n",
    "plot_planet_locations(ax)\n",
    "\n",
    "# set up a list to store the times and positions\n",
    "final_time = 15\n",
    "list_of_times = np.arange(final_time+1)\n",
    "list_of_y_positions = np.zeros_like(list_of_times)\n",
    "\n",
    "# we want to track how much we have moved during the simulation\n",
    "# so zero this\n",
    "total_distance_moved = 0\n",
    "\n",
    "# print off the initial values of the times and positions\n",
    "print(\"The list of times at the start is \", list_of_times)\n",
    "print(\"The list of positions at the start is \", list_of_y_positions)\n",
    "\n",
    "# go through the list of times, where index is the index within the \n",
    "# list, and time_now is the entry at that index\n",
    "for index, time_now in enumerate(list_of_times) :\n",
    "    \n",
    "    # the list of things to do when at a certain time starts with an 'if'\n",
    "    # start with time is zero, we start at position 0\n",
    "    if time_now == 0 :\n",
    "        list_of_y_positions[index] = 0\n",
    "    \n",
    "    # alternative option denoted by 'elif' (= else if)\n",
    "    elif (time_now > 0 and time_now < 2) :\n",
    "        step_size = 2\n",
    "        # moving y position by the step size\n",
    "        list_of_y_positions[index] = list_of_y_positions[index - 1] - step_size\n",
    "        \n",
    "    # UPDATE ME!\n",
    "    # Add more else if options here to cover all the times you need to move the ship\n",
    "    # (Try to make this as minimal as possible, rather than writing one elif statement\n",
    "    # per time step)\n",
    "\n",
    "    # finally, give the default option for all other cases using 'else'\n",
    "    else :\n",
    "        # nothing happens at other times\n",
    "        step_size = 0\n",
    "        list_of_y_positions[index] = list_of_y_positions[index - 1] + step_size\n",
    "\n",
    "    position_now = list_of_y_positions[index]\n",
    "    plt.plot(time_now, position_now, 'o')\n",
    "    # Uncomment this for interactive version\n",
    "    # plt.pause(0.4)\n",
    "\n",
    "print(\"The list of times at the end is \", list_of_times)\n",
    "print(\"The list of positions at the end is \", list_of_y_positions)\n",
    "\n",
    "plt.plot(list_of_times, list_of_y_positions, 'g-')\n",
    "plt.show()\n",
    "\n",
    "# Uncomment to save the figure\n",
    "#plt.savefig(\"myplot2.png\")\n",
    "\n",
    "# Calculate and print out some information\n",
    "total_distance_moved = 0\n",
    "print(\"I moved a total of \", total_distance_moved, \" units\")"
   ]
  },
  {
   "cell_type": "markdown",
   "id": "fc8f692b",
   "metadata": {},
   "source": [
    "### ACTIVITY 5:\n",
    "\n",
    "Which software carpentry features are already implemented?"
   ]
  },
  {
   "cell_type": "markdown",
   "id": "d716d404",
   "metadata": {},
   "source": [
    "1. There are comments to help the reader know what is happening...\n",
    "2. UPDATE ME\n",
    "3. ...\n",
    "\n"
   ]
  },
  {
   "cell_type": "markdown",
   "id": "89916b20",
   "metadata": {},
   "source": [
    "### ACTIVITY 6:\n",
    "\n",
    "*Timing*: the code is very short but it is still useful to time the `for` loop to see how long it is taking and understand how it could be optimised. Add something that returns the time taken for it to run. Change the pause time for the plotting and check that the time to run changes appropriately. (I would just google \"how to time function in python\")."
   ]
  },
  {
   "cell_type": "markdown",
   "id": "058d6f9b",
   "metadata": {},
   "source": [
    "### ACTIVITY 7:\n",
    "\n",
    "Suggest other ways to improve the code. Free to use your imagination and suggest major changes (you don't need to implement them unless you want to)."
   ]
  },
  {
   "cell_type": "markdown",
   "id": "dce67f18",
   "metadata": {},
   "source": [
    "1. UPDATE ME\n",
    "2. ...\n",
    "\n"
   ]
  }
 ],
 "metadata": {
  "kernelspec": {
   "display_name": "Python 3 (ipykernel)",
   "language": "python",
   "name": "python3"
  },
  "language_info": {
   "codemirror_mode": {
    "name": "ipython",
    "version": 3
   },
   "file_extension": ".py",
   "mimetype": "text/x-python",
   "name": "python",
   "nbconvert_exporter": "python",
   "pygments_lexer": "ipython3",
   "version": "3.12.4"
  }
 },
 "nbformat": 4,
 "nbformat_minor": 5
}
